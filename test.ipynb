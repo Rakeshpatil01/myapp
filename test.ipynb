{
 "cells": [
  {
   "cell_type": "code",
   "execution_count": 3,
   "metadata": {},
   "outputs": [
    {
     "name": "stdout",
     "output_type": "stream",
     "text": [
      "bearer\n"
     ]
    }
   ],
   "source": [
    "import requests\n",
    "data={\n",
    "            \"username\": \"Rakesh\",\n",
    "            \"password\": \"RakeshPpatil\"\n",
    "        }\n",
    "res = requests.post(f\"http://localhost:8080/token\",json=data)\n",
    "print(res.status_code)\n",
    "results = res.json()['token_type']\n",
    "print(results)"
   ]
  },
  {
   "cell_type": "code",
   "execution_count": null,
   "metadata": {},
   "outputs": [],
   "source": []
  }
 ],
 "metadata": {
  "kernelspec": {
   "display_name": "Python 3.8.0 ('usermanagement')",
   "language": "python",
   "name": "python3"
  },
  "language_info": {
   "codemirror_mode": {
    "name": "ipython",
    "version": 3
   },
   "file_extension": ".py",
   "mimetype": "text/x-python",
   "name": "python",
   "nbconvert_exporter": "python",
   "pygments_lexer": "ipython3",
   "version": "3.8.0"
  },
  "orig_nbformat": 4,
  "vscode": {
   "interpreter": {
    "hash": "167a672dc5f748156499f7c84bac426efd207bf8ff8aa6450412db8e678c987b"
   }
  }
 },
 "nbformat": 4,
 "nbformat_minor": 2
}
